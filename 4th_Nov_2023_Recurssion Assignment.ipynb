{
 "cells": [
  {
   "cell_type": "code",
   "execution_count": 1,
   "id": "54761d35-aaf0-42cd-a315-a2b3af16255b",
   "metadata": {},
   "outputs": [
    {
     "name": "stdout",
     "output_type": "stream",
     "text": [
      "Move disk 1 from rod A to rod C\n",
      "Move disk 2 from rod A to rod B\n",
      "Move disk 1 from rod C to rod B\n",
      "Move disk 3 from rod A to rod C\n",
      "Move disk 1 from rod B to rod A\n",
      "Move disk 2 from rod B to rod C\n",
      "Move disk 1 from rod A to rod C\n"
     ]
    }
   ],
   "source": [
    "## Recurssion Assignment\n",
    "## Solutions:-\n",
    "## Question no.1\n",
    "\n",
    "\n",
    "def TowerOfHanoi(n, from_rod, to_rod, aux_rod): \n",
    "    if n == 0: \n",
    "        return\n",
    "    TowerOfHanoi(n-1, from_rod, aux_rod, to_rod) \n",
    "    print(\"Move disk\", n, \"from rod\", from_rod, \"to rod\", to_rod) \n",
    "    TowerOfHanoi(n-1, aux_rod, to_rod, from_rod) \n",
    "  \n",
    "  \n",
    "# Driver code \n",
    "N = 3\n",
    "  \n",
    "# A, C, B are the name of rods \n",
    "TowerOfHanoi(N, 'A', 'C', 'B')"
   ]
  },
  {
   "cell_type": "code",
   "execution_count": 2,
   "id": "a2f185b6-dc25-42c3-ba99-d33d2c78e721",
   "metadata": {},
   "outputs": [
    {
     "name": "stdout",
     "output_type": "stream",
     "text": [
      "3\n"
     ]
    }
   ],
   "source": [
    "## Question no.2\n",
    "## Example 1:\n",
    "def minDistance(word1, word2):\n",
    "    n = len(word1)+1\n",
    "    m = len(word2)+1\n",
    "    dp = [[0 for i in range(m)] for j in range(n)]\n",
    "        \n",
    "    for i in range(0,n):\n",
    "        dp[i][0] = i\n",
    "        \n",
    "    for j in range(0,m):\n",
    "        dp[0][j] = j\n",
    "        \n",
    "    for i in range(1,n):\n",
    "        for j in range(1,m):\n",
    "            if word1[i-1] == word2[j-1]:\n",
    "                dp[i][j] = dp[i-1][j-1]\n",
    "            else:\n",
    "                dp[i][j] = 1+min(dp[i-1][j-1], dp[i-1][j], dp[i][j-1])\n",
    "        \n",
    "    return dp[n-1][m-1]\n",
    "        \n",
    "# Driver code \n",
    "result=minDistance(\"horse\", \"ros\")\n",
    "print(result)"
   ]
  },
  {
   "cell_type": "code",
   "execution_count": 3,
   "id": "522a16ca-10f6-4ad7-933e-be73ae684a57",
   "metadata": {},
   "outputs": [
    {
     "name": "stdout",
     "output_type": "stream",
     "text": [
      "5\n"
     ]
    }
   ],
   "source": [
    "## Question no.2\n",
    "## Example 2:\n",
    "def minDistance(word1, word2):\n",
    "    n = len(word1)+1\n",
    "    m = len(word2)+1\n",
    "    dp = [[0 for i in range(m)] for j in range(n)]\n",
    "        \n",
    "    for i in range(0,n):\n",
    "        dp[i][0] = i\n",
    "        \n",
    "    for j in range(0,m):\n",
    "        dp[0][j] = j\n",
    "        \n",
    "    for i in range(1,n):\n",
    "        for j in range(1,m):\n",
    "            if word1[i-1] == word2[j-1]:\n",
    "                dp[i][j] = dp[i-1][j-1]\n",
    "            else:\n",
    "                dp[i][j] = 1+min(dp[i-1][j-1], dp[i-1][j], dp[i][j-1])\n",
    "        \n",
    "    return dp[n-1][m-1]\n",
    "\n",
    "# Driver code \n",
    "result=minDistance(\"intention\", \"execution\")\n",
    "print(result)\n",
    "\n"
   ]
  },
  {
   "cell_type": "code",
   "execution_count": 4,
   "id": "61280e6a-09c3-413f-9740-312d2dfa7808",
   "metadata": {},
   "outputs": [
    {
     "name": "stdout",
     "output_type": "stream",
     "text": [
      "Maximum AND Value =  20\n"
     ]
    }
   ],
   "source": [
    "## Question no.3\n",
    "\n",
    "def maxAND(arr, n):\n",
    "    result = 0\n",
    " \n",
    "    for i in range(0, n):\n",
    "        for j in range(i + 1, n):\n",
    "            result = max(result, arr[i] & arr[j])\n",
    " \n",
    "    return result\n",
    " \n",
    " \n",
    "##Driver code\n",
    "arr =[13,1,-3,22,5]\n",
    "n = len(arr)\n",
    "print(\"Maximum AND Value = \", maxAND(arr, n))\n",
    " "
   ]
  },
  {
   "cell_type": "code",
   "execution_count": 5,
   "id": "9c797044-b38c-47bf-9010-503164540bec",
   "metadata": {},
   "outputs": [
    {
     "name": "stdout",
     "output_type": "stream",
     "text": [
      "120\n"
     ]
    }
   ],
   "source": [
    "## Question no.4\n",
    "\n",
    "def sumofvalues(arr,n):\n",
    "    sum = 0\n",
    "    for i in arr:\n",
    "        sum = sum + i\n",
    "    return(sum)\n",
    "\n",
    "\n",
    "## Driver code\n",
    "arr=[92, 23, 15, -20, 10]\n",
    "result=sumofvalues(arr,n)\n",
    "print(result)"
   ]
  },
  {
   "cell_type": "code",
   "execution_count": null,
   "id": "0ceedcc9-caea-470a-9c71-7e23ff2e0265",
   "metadata": {},
   "outputs": [],
   "source": [
    "## Question no.5\n",
    "\n",
    "num =int(input(\"enter the number\"))\n",
    "\n",
    "sum = 0\n",
    "\n",
    "temp = num\n",
    "while temp > 0:\n",
    "    digit = temp % 10\n",
    "    sum += digit ** 3\n",
    "    temp //= 10\n",
    "\n",
    "if num == sum:\n",
    "    print(\"yes\")\n",
    "else:\n",
    "    print(\"No\")\n"
   ]
  }
 ],
 "metadata": {
  "kernelspec": {
   "display_name": "Python 3 (ipykernel)",
   "language": "python",
   "name": "python3"
  },
  "language_info": {
   "codemirror_mode": {
    "name": "ipython",
    "version": 3
   },
   "file_extension": ".py",
   "mimetype": "text/x-python",
   "name": "python",
   "nbconvert_exporter": "python",
   "pygments_lexer": "ipython3",
   "version": "3.10.8"
  }
 },
 "nbformat": 4,
 "nbformat_minor": 5
}
